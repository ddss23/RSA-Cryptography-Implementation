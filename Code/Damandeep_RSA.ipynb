{
 "cells": [
  {
   "cell_type": "code",
   "execution_count": 1,
   "id": "2b500e19-d27f-4ff0-9d7f-63de68015e71",
   "metadata": {},
   "outputs": [],
   "source": [
    "#Importing random to generate random integers\n",
    "import random"
   ]
  },
  {
   "cell_type": "code",
   "execution_count": 2,
   "id": "ee7766b2-e667-42ee-af78-5a980f8899e8",
   "metadata": {},
   "outputs": [],
   "source": [
    "#function to generate large prime no. \n",
    "def Prime_generate(size):\n",
    "    while True:\n",
    "        number_prime = random.randrange(2 ** (size - 1), 2 ** size - 1)\n",
    "        if (is_prime(number_prime)):\n",
    "            return number_prime\n"
   ]
  },
  {
   "cell_type": "code",
   "execution_count": 3,
   "id": "c2084f12-a6c2-4aec-b089-f68ed338cdd3",
   "metadata": {},
   "outputs": [],
   "source": [
    "#defining a function to check whether the no. is prime\n",
    "def is_prime(number):\n",
    "    if number in {2,3}:\n",
    "        return True\n",
    "    if number == 1 or number % 2 == 0:\n",
    "        return False\n",
    "\n",
    "    for value in range(2, int(number*0.5) + 1):\n",
    "        if number%value == 0:\n",
    "            return False\n",
    "    return True    "
   ]
  },
  {
   "cell_type": "code",
   "execution_count": 4,
   "id": "d78bc7ec-b92c-48ad-9dca-18c3ae28b64f",
   "metadata": {},
   "outputs": [],
   "source": [
    "#Generating 16-bit prime no. i.e size=16\n",
    "p = Prime_generate(16)\n",
    "#p=42719\n",
    "#q=40709\n",
    "q = Prime_generate(16)"
   ]
  },
  {
   "cell_type": "code",
   "execution_count": 5,
   "id": "1d3eee82-e42c-4360-9b31-469927802e8c",
   "metadata": {},
   "outputs": [
    {
     "name": "stdout",
     "output_type": "stream",
     "text": [
      "p =  34351\n",
      "q =  56099\n"
     ]
    }
   ],
   "source": [
    "print(\"p = \", p)\n",
    "print(\"q = \", q)"
   ]
  },
  {
   "cell_type": "code",
   "execution_count": 6,
   "id": "56e5aea2-94a6-4a17-98b2-8f49d85c6f46",
   "metadata": {},
   "outputs": [
    {
     "name": "stdout",
     "output_type": "stream",
     "text": [
      "N = p*q =  1927056749\n",
      "Phi N  =   1926966300\n"
     ]
    }
   ],
   "source": [
    "# Calculating N, Phin\n",
    "N = p * q\n",
    "phi_N = (p-1) * (q-1)\n",
    "\n",
    "print (\"N = p*q = \" ,N)\n",
    "print (\"Phi N  =  \", phi_N)\n",
    "#N=1739047771\n",
    "#phi_N = 1738964344"
   ]
  },
  {
   "cell_type": "code",
   "execution_count": 7,
   "id": "9ae127d1-2b0f-468d-9224-aea535b02970",
   "metadata": {},
   "outputs": [],
   "source": [
    "# Function to get the GCD between the numbers.\n",
    "def gcd(number1, number2):\n",
    "    while number2:\n",
    "        number1, number2 = number2, number1 % number2\n",
    "    return number1"
   ]
  },
  {
   "cell_type": "code",
   "execution_count": 8,
   "id": "89821a22-0997-40eb-b170-a697d499ed4a",
   "metadata": {},
   "outputs": [
    {
     "name": "stdout",
     "output_type": "stream",
     "text": [
      "33209\n"
     ]
    }
   ],
   "source": [
    "# Function to generate E(encryption key)\n",
    "def generate_valid_e(phi_N):\n",
    "    while True:\n",
    "        e = random.randrange( 2**(16 - 1 ) , 2 ** 16 - 1)\n",
    "        if gcd(e,phi_N)==1:\n",
    "            break\n",
    "    return e\n",
    "            \n",
    "e = generate_valid_e(phi_N)\n",
    "print(e) \n",
    "#e=38509"
   ]
  },
  {
   "cell_type": "code",
   "execution_count": 9,
   "id": "a448820a-d378-40aa-b062-b747c008f6a6",
   "metadata": {},
   "outputs": [],
   "source": [
    "# Hard Coded the values for further process\n",
    "my_e=38509\n",
    "phi_N= 1738964344\n",
    "my_N = 1739047771\n",
    "p = 42719\n",
    "q = 40709\n",
    "\n",
    "moheb_N = 2259940577\n",
    "moheb_e = 706932983\n",
    "\n",
    "# Function to generate D (decryption key)\n",
    "def d_generation(e, phi_N):\n",
    "    d = pow(e, -1, phi_N)\n",
    "    return d"
   ]
  },
  {
   "cell_type": "code",
   "execution_count": 10,
   "id": "1c5d5ffc-5827-4668-aa4b-195fee9386ef",
   "metadata": {},
   "outputs": [
    {
     "name": "stdout",
     "output_type": "stream",
     "text": [
      "My decryption key (my_d) =  903598549\n"
     ]
    }
   ],
   "source": [
    "# Getting My Decryption Key\n",
    "my_d = d_generation(my_e, phi_N)\n",
    "print(\"My decryption key (my_d) = \", my_d)"
   ]
  },
  {
   "cell_type": "code",
   "execution_count": 11,
   "id": "4093c33f-9f51-44ac-9764-1363b9ba38c2",
   "metadata": {},
   "outputs": [],
   "source": [
    "#Function for square and multiply to ease the encryption and decryption process.\n",
    "\n",
    "def sqr_and_mult(base, exponent, modulus):\n",
    "    result = 1\n",
    "    base = base % modulus\n",
    "\n",
    "    while exponent > 0:\n",
    "        if exponent % 2 == 1:\n",
    "            result = (result * base) % modulus\n",
    "        exponent = exponent // 2\n",
    "        base = (base * base) % modulus\n",
    "\n",
    "    return result"
   ]
  },
  {
   "cell_type": "code",
   "execution_count": 12,
   "id": "6122e6b7-7ece-4de9-82de-9065884a9b0f",
   "metadata": {},
   "outputs": [
    {
     "name": "stdout",
     "output_type": "stream",
     "text": [
      "Original Message: Yo Moheb. Is my code working?\n",
      "Message Chunks: ['Yo ', 'Moh', 'eb.', ' Is', ' my', ' co', 'de ', 'wor', 'kin', 'g?']\n",
      "Hexadecimal Strings: ['596f20', '4d6f68', '65622e', '204973', '206d79', '20636f', '646520', '776f72', '6b696e', '673f']\n",
      "Integers: [5861152, 5074792, 6644270, 2115955, 2125177, 2122607, 6579488, 7827314, 7039342, 26431]\n"
     ]
    }
   ],
   "source": [
    "def hex_to_int(hex_strings):\n",
    "    integers = [int(hex_string, 16) for hex_string in hex_strings]\n",
    "    return integers\n",
    "    \n",
    "def msg_to_chunks(message, chunk_size=3):\n",
    "    chunks = [message[i:i+chunk_size] for i in range(0, len(message), chunk_size)]\n",
    "    return chunks\n",
    "\n",
    "def chunks_to_hex(chunks):\n",
    "    hex_strings = [chunk.encode('utf-8').hex() for chunk in chunks]\n",
    "    return hex_strings\n",
    "\n",
    "message = \"Yo Moheb. Is my code working?\"\n",
    "\n",
    "message_chunks = msg_to_chunks(message)\n",
    "hex_strings = chunks_to_hex(message_chunks)\n",
    "integers = hex_to_int(hex_strings)\n",
    "\n",
    "print(\"Original Message:\", message)\n",
    "print(\"Message Chunks:\", message_chunks)\n",
    "print(\"Hexadecimal Strings:\", hex_strings)\n",
    "print(\"Integers:\", integers)"
   ]
  },
  {
   "cell_type": "code",
   "execution_count": 13,
   "id": "750cc11c-5e0b-4392-bce8-59336ee16aa2",
   "metadata": {},
   "outputs": [],
   "source": [
    "#Function to encrypt a message using square and multiply\n",
    "def message_encrypt(N, e, integer):\n",
    "    ciphertext = [sqr_and_mult(block, e, N) for block in integers]\n",
    "    return ciphertext"
   ]
  },
  {
   "cell_type": "code",
   "execution_count": 14,
   "id": "a7218ed1-6f14-444e-8772-bdcadbca2050",
   "metadata": {
    "scrolled": true
   },
   "outputs": [
    {
     "name": "stdout",
     "output_type": "stream",
     "text": [
      "encrypted_message_send_to_Partner=  [2034262469, 2182023009, 1756303808, 966032751, 1953160884, 536155142, 1929856038, 869816369, 2061644518, 2259627186]\n"
     ]
    }
   ],
   "source": [
    "#Encrypting message using partner's N and e.\n",
    "my_encrypted_messge = message_encrypt(moheb_N,moheb_e,integers)\n",
    "print(\"encrypted_message_send_to_Partner= \", my_encrypted_messge)"
   ]
  },
  {
   "cell_type": "code",
   "execution_count": 15,
   "id": "2fce7a89-4d44-4d1b-b39d-8e4614465c5e",
   "metadata": {},
   "outputs": [],
   "source": [
    "#Function to decrypt message using square and multiply\n",
    "def message_decrypt(N, d, integer):\n",
    "    plaintext = [sqr_and_mult(block, d, N) for block in integer]\n",
    "    return plaintext"
   ]
  },
  {
   "cell_type": "code",
   "execution_count": 16,
   "id": "014ba188-a73b-4db7-950f-6a433ddf875f",
   "metadata": {},
   "outputs": [],
   "source": [
    "message_sent_by_partner = [1568902179, 419501829, 613868036, 815020017, 863559722, 618490364, 287848186, 187644016, 591005800, 443792812, 1603284827, 184745400, 160606864, 503170118, 11185354, 1658419973, 1376910896]"
   ]
  },
  {
   "cell_type": "code",
   "execution_count": 17,
   "id": "f75fe0b3-8474-4345-b399-b1806b09f2f0",
   "metadata": {
    "scrolled": true
   },
   "outputs": [
    {
     "name": "stdout",
     "output_type": "stream",
     "text": [
      "decrypted message =  [18533, 27756, 28448, 17505, 28001, 28193, 8289, 8301, 25971, 29537, 26469, 8294, 29295, 27936, 19823, 26725, 25134]\n"
     ]
    }
   ],
   "source": [
    "#decrypting the message sent by partner using my E, and N.\n",
    "message_decrypt = message_decrypt(my_N, my_d, message_sent_by_partner)\n",
    "print(\"decrypted message = \", message_decrypt)"
   ]
  },
  {
   "cell_type": "code",
   "execution_count": 18,
   "id": "3b9eae69-49a5-4653-95af-26370663162c",
   "metadata": {},
   "outputs": [
    {
     "name": "stdout",
     "output_type": "stream",
     "text": [
      "Decrypted Hex Strings: ['4865', '6c6c', '6f20', '4461', '6d61', '6e21', '2061', '206d', '6573', '7361', '6765', '2066', '726f', '6d20', '4d6f', '6865', '622e']\n",
      "Decrypted Chunk: ['He', 'll', 'o ', 'Da', 'ma', 'n!', ' a', ' m', 'es', 'sa', 'ge', ' f', 'ro', 'm ', 'Mo', 'he', 'b.']\n",
      "Decrypted Message: Hello Daman! a message from Moheb.\n"
     ]
    }
   ],
   "source": [
    "def chunks_to_msg(chunks):\n",
    "    msg = ''.join(chunks)\n",
    "    return msg\n",
    "\n",
    "def hex_to_chunks(hex_strings, chunk_size):\n",
    "    chunks = [bytes.fromhex(hex_string).decode('utf-8') for hex_string in hex_strings]\n",
    "    return chunks\n",
    "\n",
    "def int_to_hex(integers):\n",
    "    hex_strings = [hex(num)[2:] for num in integers]\n",
    "    return hex_strings\n",
    "\n",
    "dcrypted_hex = int_to_hex(message_decrypt)\n",
    "size = len(dcrypted_hex[0])\n",
    "\n",
    "dcrypted_chunks = hex_to_chunks(dcrypted_hex, size)\n",
    "\n",
    "dcrypted_msg = chunks_to_msg(dcrypted_chunks)\n",
    "\n",
    "print(\"Decrypted Hex Strings:\", dcrypted_hex)\n",
    "print(\"Decrypted Chunk:\", dcrypted_chunks)\n",
    "print(\"Decrypted Message:\", dcrypted_msg)"
   ]
  },
  {
   "cell_type": "code",
   "execution_count": 19,
   "id": "009181e0-8265-4245-9378-ca1f7d347b85",
   "metadata": {},
   "outputs": [],
   "source": [
    "#Function to define signature (encrypting the message with my d)\n",
    "def signature(N,d,integer):\n",
    "    signature = [sqr_and_mult(block, d, N) for block in integer]\n",
    "    return signature"
   ]
  },
  {
   "cell_type": "code",
   "execution_count": 20,
   "id": "d14fc286-42cd-4819-92b7-b99105215df6",
   "metadata": {},
   "outputs": [
    {
     "name": "stdout",
     "output_type": "stream",
     "text": [
      "My Signature: Damandeep Singh\n",
      "Signature Chunk: ['Dam', 'and', 'eep', ' Si', 'ngh']\n",
      "Hex Strings: ['44616d', '616e64', '656570', '205369', '6e6768']\n",
      "Signature Integers: [4481389, 6385252, 6645104, 2118505, 7235432]\n"
     ]
    }
   ],
   "source": [
    "# Converting my signature to integers\n",
    "my_signature = \"Damandeep Singh\"\n",
    "\n",
    "signature_chunks = msg_to_chunks(my_signature)\n",
    "hex_strings = chunks_to_hex(signature_chunks)\n",
    "signature_int = hex_to_int(hex_strings)\n",
    "\n",
    "print(\"My Signature:\", my_signature)\n",
    "print(\"Signature Chunk:\", signature_chunks)\n",
    "print(\"Hex Strings:\", hex_strings)\n",
    "print(\"Signature Integers:\", signature_int)"
   ]
  },
  {
   "cell_type": "code",
   "execution_count": 21,
   "id": "2bb7e29c-bbff-415a-8b9b-00c8fdabd755",
   "metadata": {},
   "outputs": [
    {
     "name": "stdout",
     "output_type": "stream",
     "text": [
      "My Encrypted Signature =  [540252657, 345518282, 344945407, 1079879095, 1289052783]\n"
     ]
    }
   ],
   "source": [
    "signature_Mine = signature(my_N,my_d,signature_int)\n",
    "print(\"My Encrypted Signature = \",signature_Mine)"
   ]
  },
  {
   "cell_type": "code",
   "execution_count": 22,
   "id": "17fb7321-4d54-4113-985a-9ac048d94645",
   "metadata": {},
   "outputs": [],
   "source": [
    "Signed_text_recived = [989286271, 1160559010, 315412444, 1139870317, 1095842289, 877902808, 435835001, 2116271052, 1554281519]"
   ]
  },
  {
   "cell_type": "code",
   "execution_count": 23,
   "id": "c77ef63d-9b97-4811-aa8a-cdb3fc5dde86",
   "metadata": {},
   "outputs": [],
   "source": [
    "#function to decrypt the signature using e.\n",
    "def signature_decrypt(N, e, integer):\n",
    "    decrypted_signature = [sqr_and_mult(block, e, N) for block in integer]\n",
    "    return decrypted_signature"
   ]
  },
  {
   "cell_type": "code",
   "execution_count": 24,
   "id": "8f1fefbb-d796-440e-9a2f-452110642351",
   "metadata": {},
   "outputs": [
    {
     "name": "stdout",
     "output_type": "stream",
     "text": [
      "[19823, 26725, 25120, 21089, 26733, 24942, 8262, 24937, 122]\n"
     ]
    }
   ],
   "source": [
    "decrypted_signature = signature_decrypt(moheb_N, moheb_e, Signed_text_recived)\n",
    "print(decrypted_signature)"
   ]
  },
  {
   "cell_type": "code",
   "execution_count": 25,
   "id": "06f90a51-119e-4a84-be11-06ed7c0e4043",
   "metadata": {},
   "outputs": [
    {
     "name": "stdout",
     "output_type": "stream",
     "text": [
      "Decrypted Signature: Moheb Rahman Faiz\n"
     ]
    }
   ],
   "source": [
    "dcrypted_hex = int_to_hex(decrypted_signature)\n",
    "size = len(dcrypted_hex[0])\n",
    "\n",
    "dcrypted_chunks = hex_to_chunks(dcrypted_hex, size)\n",
    "\n",
    "signature_decrypted = chunks_to_msg(dcrypted_chunks)\n",
    "\n",
    "print(\"Decrypted Signature:\", signature_decrypted)"
   ]
  },
  {
   "cell_type": "code",
   "execution_count": 26,
   "id": "8c15403b-9962-45d0-95c5-6d9b37ff6997",
   "metadata": {},
   "outputs": [],
   "source": [
    "#original signature posted by partner\n",
    "Original_text = \"Moheb Rahman Faiz\""
   ]
  },
  {
   "cell_type": "code",
   "execution_count": 27,
   "id": "7730fe7c-ca5e-4e1a-ab96-d89347bbfb12",
   "metadata": {},
   "outputs": [
    {
     "name": "stdout",
     "output_type": "stream",
     "text": [
      "Is Siganture Valid :  True\n"
     ]
    }
   ],
   "source": [
    "#Checking the signature is valid\n",
    "def signature_checker(signature_decrypted):\n",
    "    Signature_valid = Original_text == signature_decrypted\n",
    "    return Signature_valid\n",
    "\n",
    "Signature_valid = signature_checker(signature_decrypted)\n",
    "print(\"Is Siganture Valid : \",Signature_valid)"
   ]
  },
  {
   "cell_type": "code",
   "execution_count": null,
   "id": "be7221c9-d794-4873-9782-c8bd6400c646",
   "metadata": {},
   "outputs": [],
   "source": []
  },
  {
   "cell_type": "code",
   "execution_count": null,
   "id": "4c99d652-2446-48d8-b7f1-1ec0575cfa63",
   "metadata": {},
   "outputs": [],
   "source": []
  }
 ],
 "metadata": {
  "kernelspec": {
   "display_name": "Python 3 (ipykernel)",
   "language": "python",
   "name": "python3"
  },
  "language_info": {
   "codemirror_mode": {
    "name": "ipython",
    "version": 3
   },
   "file_extension": ".py",
   "mimetype": "text/x-python",
   "name": "python",
   "nbconvert_exporter": "python",
   "pygments_lexer": "ipython3",
   "version": "3.11.5"
  }
 },
 "nbformat": 4,
 "nbformat_minor": 5
}
